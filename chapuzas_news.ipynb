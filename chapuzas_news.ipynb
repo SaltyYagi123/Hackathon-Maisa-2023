{
 "cells": [
  {
   "cell_type": "code",
   "execution_count": null,
   "metadata": {},
   "outputs": [],
   "source": [
    "api_key = \"sk_live_MWpFA7WNFiQGVdyJeLA5pe_2g5AnRMJ7d76rXhYgcfgNR\" #Enter the API key\n",
    "from maisa import Maisa\n",
    "#import requests\n",
    "\n",
    "maisa = Maisa(\n",
    "    api_key= api_key,\n",
    ")\n",
    "\n",
    "language = 'es' # Si no se especifica es inglés \n",
    "summary_length = 'short' #(short, medium, long)\n"
   ]
  },
  {
   "cell_type": "code",
   "execution_count": null,
   "metadata": {},
   "outputs": [],
   "source": [
    "title_mundo = \"Ábalos se planta ante Sánchez, no renuncia al acta y pasa al Grupo Mixto: “Estoy completamente solo pero defenderé mi honor”\"\n",
    "\n",
    "new_mundo = \"\"\"\n",
    "El ex ministro de Fomento y ex secretario de Organización del PSOE, José Luis Ábalos, ha decidido plantar cara a Pedro Sánchez y desoír su exigencia de entregar el acta de diputado. Ábalos mantendrá por tanto el escaño y pasará a formar parte del Grupo Mixto.\n",
    "\n",
    "El diputado, que fue hombre clave en el regreso de Sánchez a la secretaría general socialista tras su defenestración en 2016 y uno de los puntales de su posterior Gobierno, desafía ahora abiertamente al presidente y líder del PSOE, por considerar que se le ha abandonado a merced de un caso de corrupción en la compra de mascarillas en plena pandemia en el que aparece como primer protagonista quien fuera su asesor y hombre para todo en el Ministerio, Koldo García.\n",
    "\n",
    "José Luis Ábalos seguirá sentándose en el Congreso pero lo hará dentro del Grupo Mixto restando así un escaño al Grupo Socialista que, a partir de ahora, contará con 120 representantes. El diputado se sentará en una de las últimas filas del hemiciclo, detrás de los parlamentarios de EH Bildu. Su nueva ubicación fue decidida antes de que compareciera ante la prensa, cuando la Cámara ya había recibido su decisión de pasar al Grupo Mixto.\n",
    "\n",
    "Tras la intervención del ex ministro, el PSOE ha comunicado su expulsión como militante de la Agrupación de Valencia. En una resolución de seis páginas, Ferraz argumenta que podría haber incurrido en tres faltas muy graves por \"abandono de cargo público\", \"actuación en contra de acuerdos adoptados por los órganos de dirección del partido\" y por \"menoscabar la imagen de los cargos públicos o de las instituciones socialistas\". Asimismo, indica que podría haber incurrido en una falta grave por \"obstrucción a la labor y decisiones de los órganos del partido\".\n",
    "La defensa de la \"honorabilidad\"\n",
    "\n",
    "\"Comenzaré la defensa de mi honorabilidad ante la opinión pública y ante la militancia del PSOE, el partido en el que he militado toda mi vida y con el que siempre he contado con el afecto y el apoyo\". Así ha iniciado Ábalos su comparecencia ante la prensa.\n",
    "\n",
    "\"Estoy decidido a defender mi honor personal y como diputado hasta las últimas consecuencias. Me hubiera gustado haberlo hecho respaldado por mi partido. Yo contribuí a la formación de un Gobierno progresista y a cohesionar la militancia. Me hubiera gustado tener el beneficio del compañerismo y haber compartido una reflexión por la senda del sosiego y la moderación. Ahora comparezco para anunciarles la decisión más importante de mi vida política: he decidido hacer caso a quienes me aprecian y a las personas que me han pedido que siga adelante en la lucha, que no me rinda y que defienda mi honorabilidad. No estoy acusado de nada ni formo parte de la investigación en curso y no tengo ningún enriquecimiento ilícito. No tengo por qué invocar el principio de presunción de inocencia\", ha afirmado.\n",
    "\n",
    "\"Mi gestión se limitó a conseguir equipos de protección lo más rápido posible aminorando costes y comisiones. Congelé el pago al proveedor hasta que no tuviéramos la mercancía. Procuramos por tanto medidas de protección mucho antes que otros departamentos y a mucho mejor precio y pudimos incluso prestar a otras administraciones que no tenían equipos de protección. Vivíamos ambiente de pesadumbre, impotencia y ansiedad. Sólo queríamos proteger a la gente\", ha justificado Ábalos intentando describir a líneas generales cuál fue su gestión durante la pandemia.\n",
    "\"Sé lo que es un apestado\"\n",
    "\n",
    "El diputado ha lamentado que se ponga en cuestión también a funcionarios que según el \"fiscalizaron doblemente\" los procedimientos de contratación, entre ellos los del Tribunal de Cuentas. Según Ábalos \"no hay ninguna duda\" sobre el procedimiento que se llevó a cabo para la compra de mascarillas.\n",
    "\n",
    "\"El problema está en el presunto enriquecimiento ilícito de un colaborador que fue parte de mi gabinete. Decepcionante y repudiable \"ha dicho antes de añadir que \"será la Justicia la que resuelva con las debidas garantías las sanciones que correspondan. La Justicia tendrá toda la colaboración por mi parte\", ha recalcado.\n",
    "\n",
    "Ábalos ha afirmado que quienes exigen su salida de la política aluden a la \"ética\" pero no explican cómo se repararía el daño a su \"cancelación civil y a su sacrificio político\". \"Hay muchas varas de medir, no hay una ética compartida. Por eso, lo que se impone es que ejerza la ley. Se exige mi renuncia pero esta no tendría ningún efecto práctico para otros casos similares o peores\", ha añadido y aquí se ha referido al alcalde de Madrid, José Luis Martínez Almeida.\n",
    "\n",
    "\"Si yo renunciara se entendería que asumo alguna responsabilidad y no la asumo. Sé lo que es un apestado político. Y con ello no acabaría la cacería contra otras personas. No ha sido posible entablar una reflexión con mi partido. Así que ante la necesidad de defenderme y restituir mi honor como diputado y persona. Por eso he decidido pasar al Grupo Mixto desde donde seguiré defendiendo mis ideas\", ha zanjado\n",
    "El PSOE no sabía la decisión\n",
    "\n",
    "La decisión comunicada de Ábalos llega justo cuando el reloj apuraba su cuenta atrás para que finalizara el ultimátum que el PSOE dio este lunes al ex ministro para que renunciara a su escaño en el Congreso. De hecho, el secretario de Organización socialista, Santos Cerdán, reconocía durante la mañana de este martes no saber cuál sería la decisión final de Ábalos, a pesar de haber hablado previamente con él, y remitía a las declaraciones que el diputado valenciano pudiera dar en la Cámara Baja.\n",
    "\n",
    "Un anuncio que ha llegado justo después de que el portavoz parlamentario de los socialistas, Patxi López, compareciera en la habitual rueda de prensa que él y el resto de portavoces dan los martes. Tras ellos, el ex ministro había solicitado al Congreso un turno para la realización de una intervención en la misma sala de prensa, apenas unos minutos después de que López compareciera ante los medios para, entre otros asuntos, remarcar que el PSOE no conocía la posición de Ábalos hasta que éste la comunicara públicamente.\n",
    "\n",
    "La dirección socialista tardó cinco días en exigir a Ábalos públicamente la entrega del acta de diputado en un plazo de 24 horas por su \"responsabilidad política\" en la presunta trama de cobro de comisiones millonarias por la adjudicación de contratos para la compra de mascarillas durante la pandemia del Covid. Y el ex ministro respondió este lunes al ultimátum renunciando a la presidencia de la Comisión de Interior en el Congreso, pero no a su escaño.\n",
    "\n",
    "La advertencia de Ferraz, en cualquier caso, era clara: en el caso de que persistiera en su desafío a la directriz de la dirección socialista y no entregase el acta de diputado, que es personal, quien fuera hombre de la total confianza de Pedro Sánchez acabaría expulsado de su grupo parlamentario y pasaría a formar parte del Mixto como independiente junto a los representantes de Podemos, Coalición Canaria, BNG y UPN.\n",
    "\n",
    "Todavía anoche en el núcleo duro del partido expresaban su confianza en que Ábalos saliera del Congreso para tratar de trazar un cortafuegos con el caso de corrupción que afecta presuntamente a su mano derecha en el Ministerio de Transportes, Koldo García. \"Estamos seguros de que José Luis hará lo mejor para el PSOE\", expresaban.\n",
    "\n",
    "Pero Ábalos ha optado por seguir en el Grupo Mixto, ha dicho, para lograr defender su honorabilidad. \"¿Por qué siempre tiene que estar la miseria acompañándonos? Mi partido rinde un tributo político a la derecha. Y yo no puedo acabar mi carrera como un corrupto. Espero el final de esta partida viendo como muchos me miran a la cara. Nunca me hubiera imaginado fuera de estas siglas. Ser exigente ante la corrupción no es actuar por espasmos al dictado de tus adversarios políticos sino siendo implacables ante los que se corrompen. Tengo que defenderme a todos los niveles. Siento que me enfrento a todo, no tengo a nadie detrás ni al lado. Me enfrento a todo el poder político de una parte y de otra\", ha afirmado el diputado en su largo lamento.\n",
    "\n",
    "Él cree que se han \"superado todos los límites\" cuando se ha hablado de sus circunstancias económicas o se le ha perseguido para sacarle \"una fotito\". \"Para llevar adelante esta no rendición\", ha asegurado, \"preciso de una tribuna pública como la que me ofrece el Congreso\". Sus últimas palabras han sido para los \"magníficos diputados\" que conforman el Grupo Socialista de los que se ha despedido entre lágrimas.\n",
    "\n",
    "Tras su comparecencia, Ábalos se ha dirigido al registro del Congreso a formalizar la solicitud de su paso al Grupo Mixto. El diputado valenciano ha dicho que este martes no irá al Pleno y, sobre si asistirá a la sesión de mañana, en la que el PP va a lanzar una batería de preguntas sobre el 'caso Koldo', se ha limitado a decir: \"Ya no tengo disciplina\".\n",
    "\"\"\""
   ]
  },
  {
   "cell_type": "code",
   "execution_count": null,
   "metadata": {},
   "outputs": [],
   "source": [
    "noticia = new_mundo\n",
    "print(int(len(noticia)/2))\n",
    "print(noticia[int(len(noticia)/2)])\n",
    "\n",
    "for i in range(int(len(noticia)/2),len(noticia)):\n",
    "    if noticia[i] == '.':\n",
    "        noticia_1 = noticia[0:i]\n",
    "        noticia_2 = noticia[i+1:len(noticia)]\n",
    "        break\n",
    "\n",
    "summary_noticia1 = maisa.capabilities.summarize(\n",
    "    text = noticia_1, # (Required)\n",
    "    lang = language, # Language of the output\n",
    "    length = 'long',\n",
    "            # format = paragrahp or bullet\n",
    "            # summary_hint = \" \" -> Un prompt por si quieres resumir algo en concreto\n",
    ")\n",
    "summary_noticia2 = maisa.capabilities.summarize(\n",
    "    text = noticia_2, # (Required)\n",
    "    lang = language, # Language of the output\n",
    "    length = 'long',\n",
    "            # format = paragrahp or bullet\n",
    "            # summary_hint = \" \" -> Un prompt por si quieres resumir algo en concreto\n",
    ")\n",
    "\n",
    "summary_final = summary_noticia1.summary + \" \" + summary_noticia2.summary"
   ]
  },
  {
   "cell_type": "code",
   "execution_count": null,
   "metadata": {},
   "outputs": [],
   "source": [
    "\n",
    "print(\"Resumen del Articulo\")\n",
    "print(summary_final)"
   ]
  }
 ],
 "metadata": {
  "language_info": {
   "name": "python"
  }
 },
 "nbformat": 4,
 "nbformat_minor": 2
}
