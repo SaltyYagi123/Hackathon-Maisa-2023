{
 "cells": [
  {
   "cell_type": "markdown",
   "metadata": {},
   "source": [
    "# Herramientas de Maisa"
   ]
  },
  {
   "cell_type": "markdown",
   "metadata": {},
   "source": [
    "Primero vamos a coger unos textos de ejemplo. Voy a coger la noticia de Ábalos que es portada hoy en 3 de los periódicos nacionales más importantes. \n",
    "27 Feb (ABC, Mundo, País)"
   ]
  },
  {
   "cell_type": "code",
   "execution_count": 2,
   "metadata": {},
   "outputs": [],
   "source": [
    "title_abc = \"Ábalos no dimite y consuma su desafío a Sánchez: «Ante la necesidad de defenderme he decidido pasar al Grupo Mixto»\"\n",
    "\n",
    "new_abc = \"\"\"\n",
    "Acabadas las ruedas de prensa de todos los portavoces, toda la atención de la sala de prensa del Congreso quedó centrada en José Luis Ábalos. Tardó en aparecer por allí, tres horas más tarde del ultimátum dado ayer lunes por el PSOE para que dejara su acta, y cuando lo hizo fue directo. «Ante la necesidad de defenderme he decidido pasar al Grupo Mixto», señaló. Se queda. Una decisión que, según dejaron caer fuentes socialistas cercanas a la dirección, conllevará su expulsión del partido en las próximas horas.\n",
    "\n",
    "«Me hubiera gustado tener el beneficio del compañerismo. No ha sido así. Me gustaría estar haciéndo esta comparecencia respaldado por la dirección de mi partido. Creo que habría sido lo correcto, pero no ha sido posible», ha lamentado antes de hacer el anuncio que él mismo ha valorado como «la decisión más importante» de su vida política.\n",
    "\n",
    "Dice haberla tomado después de escuchar «el ruego de que siga adelante en la lucha» por parte de aquellos que «de verdad le quieren» y a la vez que ha defendido su honorabilidad, pues, como según ha apuntado, no está acusado en el caso Koldo.\n",
    "\n",
    "«Rendir un tributo a la derecha como creo que hacer la dirección política de mi partido no va a impedir que la derecha continúe la cacería», ha afirmado tras anunciar su marcha al Grupo Mixto, algo que ha calificado como una decisión «muy difícil en lo personal», pero que «no atiende a cuestiones de índole personal». «En estos días tan emocionales he recibido muestras de afecto desde fuera del partido. Hagas lo que hagas, vamos a estar contigo, me han dicho, y con eso me quedo», ha trasladado antes de despedirse del Grupo Socialista, a los que ha querido «reconocer por su entrega y trabajo»\n",
    "\n",
    "La figura del exministro concitó toda la actualidad de la mañana en los pasillos del Congreso, a donde seguirá acudiendo puntualmente para cumplir con sus labores de diputado. Un pulso en toda regla al PSOE y un problema para Pedro Sánchez, con el que presuntamente coincidirá este miércoles durante la sesión de control al Gobierno.\n",
    "\n",
    "Antes de hacer pública su decisión, Patxi López había reconocido que todo el caso Koldo les estaba «produciendo mucho dolor». «Según el sumario, no existe ningún reproche penal al señor Ábalos. Pero como la lucha contra la corrupción es una cuestión nuclear del partido y del presidente, de ahí la resolución de ayer de la Ejecutiva del PSOE. Aquí no va a haber martillazos ni policía corrupta. Solo ejemplaridad y asunción de responsabilidades políticas», señaló el portavoz socialista sin explicar cómo había podido tener acceso al sumario sin estar personado el partido. Lo que sí hizo fue dejar caer que, en caso de confirmarse que Ábalos continúa como diputado, sería expulsado del partido.\n",
    "\n",
    "José Luis Ábalos ha hecho caso omiso de la exigencia del PSOE, que le había conminado a dimitir en un plazo de 24 horas, y continuará como diputado integrado en el Grupo Mixto, según ha adelantado la 'Cadena Ser' y han confirmado a este diario fuentes socialistas. Un movimiento traumático para la cúpula del PSOE, pero esperado después de que el exministro de Transportes hubiera renunciado ayer lunes solo a su cargo como presidente de la comisión de Interior.\n",
    "\n",
    "Su sucesor al frente de la Secretaría de Organización del PSOE, Santos Cerdán, ha mantenido con Ábalos una conversación en las últimas horas para tratar de convencerle, sin éxito, de acatar la decisión de la Ejecutiva Federal. Ha sido la última de una serie de contactos que ambos han mantenido desde la última semana. Y en los que Ábalos siempre ha expresado a su interlocutor su contrariedad por querer ser utilizado como chivo expiatorio. Cerdán ha llegado a desplazarse al domicilio de Ábalos, en el municipio madrileño de Rivas, para conversar con él cara a cara. La charla de esta mañana ha sido un último intento de evitar que el político valenciano ocupara esta semana su escaño durante el pleno, en el que previsiblemente coincidirá con el presidente del Gobierno, durante la sesión de control del miércoles.\n",
    "\n",
    "La renuncia de Ábalos como presidente de la comisión de Interior era preludio de un atrincheramiento. ¿Por qué sí renunció a ese puesto? Sencillamente porque al contrario que el acta, que es personal, ese puesto podía perderlo fácilmente en una votación al respecto en la citada comisión. A las 11:21 se cumplian 24 horas exactas desde que la portavoz de la Ejecutiva Federal, Esther Peña, anunciase que la dirección del partido por unanimidad había acordado solicitarle a Ábalos que entregase su acta de diputado, abriendo desde entonces ese plazo. En Ferraz justificaban ayer ese movimiento en la convicción de que quien fue durante cuatro años secretario de Organización del PSOE no iba a contravenir un mandato de la dirección del partido. Pero pronto empezaron a entender que el pulso de Ábalos iba a mantenerse hasta el final.\n",
    "\n",
    "Con Ábalos en el grupo mixto se añade un ingrediente de incertidumbre a la complicadísima aritmética que tiene que afrontar el Gobierno en cada votación en el Congreso de los Diputados. No obstante, el voto de Ábalos no será el decisivo en ninguna votación contraria al Gobierno, que lo que necesita es amarrar a Podemos (4) y Junts (7) para no quedarse en minoría. Eso sí, los números están ajustados y ahora hasta una abstención cotiza al alza. Por lo que los socialistas sí tendrán que preocuparse de su posición en cada votación.\n",
    "\"\"\""
   ]
  },
  {
   "cell_type": "code",
   "execution_count": 3,
   "metadata": {},
   "outputs": [],
   "source": [
    "title_mundo = \"Ábalos se planta ante Sánchez, no renuncia al acta y pasa al Grupo Mixto: “Estoy completamente solo pero defenderé mi honor”\"\n",
    "\n",
    "new_mundo = \"\"\"\n",
    "El ex ministro de Fomento y ex secretario de Organización del PSOE, José Luis Ábalos, ha decidido plantar cara a Pedro Sánchez y desoír su exigencia de entregar el acta de diputado. Ábalos mantendrá por tanto el escaño y pasará a formar parte del Grupo Mixto.\n",
    "\n",
    "El diputado, que fue hombre clave en el regreso de Sánchez a la secretaría general socialista tras su defenestración en 2016 y uno de los puntales de su posterior Gobierno, desafía ahora abiertamente al presidente y líder del PSOE, por considerar que se le ha abandonado a merced de un caso de corrupción en la compra de mascarillas en plena pandemia en el que aparece como primer protagonista quien fuera su asesor y hombre para todo en el Ministerio, Koldo García.\n",
    "\n",
    "José Luis Ábalos seguirá sentándose en el Congreso pero lo hará dentro del Grupo Mixto restando así un escaño al Grupo Socialista que, a partir de ahora, contará con 120 representantes. El diputado se sentará en una de las últimas filas del hemiciclo, detrás de los parlamentarios de EH Bildu. Su nueva ubicación fue decidida antes de que compareciera ante la prensa, cuando la Cámara ya había recibido su decisión de pasar al Grupo Mixto.\n",
    "\n",
    "Tras la intervención del ex ministro, el PSOE ha comunicado su expulsión como militante de la Agrupación de Valencia. En una resolución de seis páginas, Ferraz argumenta que podría haber incurrido en tres faltas muy graves por \"abandono de cargo público\", \"actuación en contra de acuerdos adoptados por los órganos de dirección del partido\" y por \"menoscabar la imagen de los cargos públicos o de las instituciones socialistas\". Asimismo, indica que podría haber incurrido en una falta grave por \"obstrucción a la labor y decisiones de los órganos del partido\".\n",
    "La defensa de la \"honorabilidad\"\n",
    "\n",
    "\"Comenzaré la defensa de mi honorabilidad ante la opinión pública y ante la militancia del PSOE, el partido en el que he militado toda mi vida y con el que siempre he contado con el afecto y el apoyo\". Así ha iniciado Ábalos su comparecencia ante la prensa.\n",
    "\n",
    "\"Estoy decidido a defender mi honor personal y como diputado hasta las últimas consecuencias. Me hubiera gustado haberlo hecho respaldado por mi partido. Yo contribuí a la formación de un Gobierno progresista y a cohesionar la militancia. Me hubiera gustado tener el beneficio del compañerismo y haber compartido una reflexión por la senda del sosiego y la moderación. Ahora comparezco para anunciarles la decisión más importante de mi vida política: he decidido hacer caso a quienes me aprecian y a las personas que me han pedido que siga adelante en la lucha, que no me rinda y que defienda mi honorabilidad. No estoy acusado de nada ni formo parte de la investigación en curso y no tengo ningún enriquecimiento ilícito. No tengo por qué invocar el principio de presunción de inocencia\", ha afirmado.\n",
    "\n",
    "\"Mi gestión se limitó a conseguir equipos de protección lo más rápido posible aminorando costes y comisiones. Congelé el pago al proveedor hasta que no tuviéramos la mercancía. Procuramos por tanto medidas de protección mucho antes que otros departamentos y a mucho mejor precio y pudimos incluso prestar a otras administraciones que no tenían equipos de protección. Vivíamos ambiente de pesadumbre, impotencia y ansiedad. Sólo queríamos proteger a la gente\", ha justificado Ábalos intentando describir a líneas generales cuál fue su gestión durante la pandemia.\n",
    "\"Sé lo que es un apestado\"\n",
    "\n",
    "El diputado ha lamentado que se ponga en cuestión también a funcionarios que según el \"fiscalizaron doblemente\" los procedimientos de contratación, entre ellos los del Tribunal de Cuentas. Según Ábalos \"no hay ninguna duda\" sobre el procedimiento que se llevó a cabo para la compra de mascarillas.\n",
    "\n",
    "\"El problema está en el presunto enriquecimiento ilícito de un colaborador que fue parte de mi gabinete. Decepcionante y repudiable \"ha dicho antes de añadir que \"será la Justicia la que resuelva con las debidas garantías las sanciones que correspondan. La Justicia tendrá toda la colaboración por mi parte\", ha recalcado.\n",
    "\n",
    "Ábalos ha afirmado que quienes exigen su salida de la política aluden a la \"ética\" pero no explican cómo se repararía el daño a su \"cancelación civil y a su sacrificio político\". \"Hay muchas varas de medir, no hay una ética compartida. Por eso, lo que se impone es que ejerza la ley. Se exige mi renuncia pero esta no tendría ningún efecto práctico para otros casos similares o peores\", ha añadido y aquí se ha referido al alcalde de Madrid, José Luis Martínez Almeida.\n",
    "\n",
    "\"Si yo renunciara se entendería que asumo alguna responsabilidad y no la asumo. Sé lo que es un apestado político. Y con ello no acabaría la cacería contra otras personas. No ha sido posible entablar una reflexión con mi partido. Así que ante la necesidad de defenderme y restituir mi honor como diputado y persona. Por eso he decidido pasar al Grupo Mixto desde donde seguiré defendiendo mis ideas\", ha zanjado\n",
    "El PSOE no sabía la decisión\n",
    "\n",
    "La decisión comunicada de Ábalos llega justo cuando el reloj apuraba su cuenta atrás para que finalizara el ultimátum que el PSOE dio este lunes al ex ministro para que renunciara a su escaño en el Congreso. De hecho, el secretario de Organización socialista, Santos Cerdán, reconocía durante la mañana de este martes no saber cuál sería la decisión final de Ábalos, a pesar de haber hablado previamente con él, y remitía a las declaraciones que el diputado valenciano pudiera dar en la Cámara Baja.\n",
    "\n",
    "Un anuncio que ha llegado justo después de que el portavoz parlamentario de los socialistas, Patxi López, compareciera en la habitual rueda de prensa que él y el resto de portavoces dan los martes. Tras ellos, el ex ministro había solicitado al Congreso un turno para la realización de una intervención en la misma sala de prensa, apenas unos minutos después de que López compareciera ante los medios para, entre otros asuntos, remarcar que el PSOE no conocía la posición de Ábalos hasta que éste la comunicara públicamente.\n",
    "\n",
    "La dirección socialista tardó cinco días en exigir a Ábalos públicamente la entrega del acta de diputado en un plazo de 24 horas por su \"responsabilidad política\" en la presunta trama de cobro de comisiones millonarias por la adjudicación de contratos para la compra de mascarillas durante la pandemia del Covid. Y el ex ministro respondió este lunes al ultimátum renunciando a la presidencia de la Comisión de Interior en el Congreso, pero no a su escaño.\n",
    "\n",
    "La advertencia de Ferraz, en cualquier caso, era clara: en el caso de que persistiera en su desafío a la directriz de la dirección socialista y no entregase el acta de diputado, que es personal, quien fuera hombre de la total confianza de Pedro Sánchez acabaría expulsado de su grupo parlamentario y pasaría a formar parte del Mixto como independiente junto a los representantes de Podemos, Coalición Canaria, BNG y UPN.\n",
    "\n",
    "Todavía anoche en el núcleo duro del partido expresaban su confianza en que Ábalos saliera del Congreso para tratar de trazar un cortafuegos con el caso de corrupción que afecta presuntamente a su mano derecha en el Ministerio de Transportes, Koldo García. \"Estamos seguros de que José Luis hará lo mejor para el PSOE\", expresaban.\n",
    "\n",
    "Pero Ábalos ha optado por seguir en el Grupo Mixto, ha dicho, para lograr defender su honorabilidad. \"¿Por qué siempre tiene que estar la miseria acompañándonos? Mi partido rinde un tributo político a la derecha. Y yo no puedo acabar mi carrera como un corrupto. Espero el final de esta partida viendo como muchos me miran a la cara. Nunca me hubiera imaginado fuera de estas siglas. Ser exigente ante la corrupción no es actuar por espasmos al dictado de tus adversarios políticos sino siendo implacables ante los que se corrompen. Tengo que defenderme a todos los niveles. Siento que me enfrento a todo, no tengo a nadie detrás ni al lado. Me enfrento a todo el poder político de una parte y de otra\", ha afirmado el diputado en su largo lamento.\n",
    "\n",
    "Él cree que se han \"superado todos los límites\" cuando se ha hablado de sus circunstancias económicas o se le ha perseguido para sacarle \"una fotito\". \"Para llevar adelante esta no rendición\", ha asegurado, \"preciso de una tribuna pública como la que me ofrece el Congreso\". Sus últimas palabras han sido para los \"magníficos diputados\" que conforman el Grupo Socialista de los que se ha despedido entre lágrimas.\n",
    "\n",
    "Tras su comparecencia, Ábalos se ha dirigido al registro del Congreso a formalizar la solicitud de su paso al Grupo Mixto. El diputado valenciano ha dicho que este martes no irá al Pleno y, sobre si asistirá a la sesión de mañana, en la que el PP va a lanzar una batería de preguntas sobre el 'caso Koldo', se ha limitado a decir: \"Ya no tengo disciplina\".\n",
    "\"\"\""
   ]
  },
  {
   "cell_type": "code",
   "execution_count": 4,
   "metadata": {},
   "outputs": [],
   "source": [
    "title_pais = \"Ábalos no renuncia al escaño y se pasa al Grupo Mixto: “No acabaré mi carrera como corrupto cuando soy inocente”\"\n",
    "\n",
    "new_pais = \"\"\"\n",
    "José Luis Ábalos, exministro de Fomento y exsecretario de Organización del PSOE, ha decidido no dejar el acta de diputado que consiguió por el PSOE y pasarse al Grupo Mixto para defender desde ese escaño su “honorabilidad hasta las últimas consecuencias”, porque, ha dicho: “No pienso acabar mi carrera como un corrupto cuando soy inocente”. La decisión de Ábalos, anunciada en la sala de prensa del Congreso al borde del comienzo del pleno, supone un desafío a su partido, que este lunes le dio 24 horas para que dimitiese como parlamentario para forma de asumir la responsabilidad política por el escándalo del llamado caso Koldo. Ábalos se siente solo y abandonado por todos, incluido su partido, al que ha colocado como adversario: “Me enfrento a todo el poder político, de una parte y de otra, y estoy solo”.\n",
    "\n",
    "El político, que ha dirigido duros reproches al Gobierno y a la dirección socialista, ha defendido su inocencia y su ignorancia de los tejemanejes de su antiguo asesor Koldo García, quien presuntamente se llevó centenares de miles de euros en comisiones ilegales en un contrato para comprar mascarillas en plena pandemia. “No estoy acusado de nada. Ni formo parte de la investigación en curso, ni tengo ningún enriquecimiento ilícito. No tengo necesidad de invocar el principio de presunción de inocencia, que no me afecta, porque no estoy encausado en nada”, ha proclamado.\n",
    "\n",
    "Ábalos ha mantenido la incógnita sobre el sentido de su decisión hasta minutos antes de que comenzara el pleno del Congreso. La salida del Grupo Socialista llega tras varios días de presión para que abandonase el escaño saberse que un antiguo asesor. Poco antes de que el exministro comunicase su decisión, el actual secretario de Organización socialista, Santos Cerdán, pedía esperar (“vamos a ver primero el comunicado”, ha dicho en los pasillos del Congreso) y el propio Patxi López, portavoz socialista, reclamaba paciencia hasta escuchar a su hasta ahora compañero de filas.\n",
    "El exministro ha sostenido la necesidad de mantener la tribuna pública del Congreso para defender su “honorabilidad ante la opinión pública y ante la militancia del PSOE, al que he dedicado toda la vida”. Ábalos ha mostrado su dolor por no haber sido “respaldado” por la dirección de su partido, al que ha reprochado que no ha querido llegar “a la mejor solución compartida”. “Me hubiera gustado tener el beneficio del compañerismo. No ha sido posible”, ha dicho tras comunicar la que ha calificado como “la decisión más importante” de su vida política.\n",
    "\n",
    "El motivo, ha dicho, para mantener el escaño es que no tiene nada que ocultar y porque no está imputado ni citado en la causa. “No figuro ni en la querella, donde hay siete acusados, ni en el auto judicial. Hasta ahora no he sido requerido para nada”, ha subrayado, antes de destacar que los contratos fueron auditados por el Tribunal de Cuentas y que la querella de la fiscalía señala que el procedimiento fue correcto de acuerdo a la normativa del momento.\n",
    "El político ha insistido en que presentar la dimisión como diputado hubiera sido reconocer algo de culpabilidad. “Pero he dicidido hacer caso a las personas que me aprecian, las que me han transmitido el ruego de que siga adelante en la lucha, de que no me rinda, de que me defienda y defienda mi honorabilidad”. Antes de despedirse para ir al pleno para ocupar un nuevo escaño lejos de sus hasta ahora compañeros, ha hecho esta reflexión con la voz compungida, dirigida en parte a su partido: “Quienes exigen mi expulsión de la política apelan a una supuesta ética. Pero no me explican cuál sería o cuándo la reparación a mi cancelación civil, ¿quién repararía aquello? Si renunciara, y más en este momento, se interpretaría como un signo de culpabilidad que no asumo, supondría mi estigmatización, tengo una edad y sé lo que es un apestado político. No impediría tampoco que seguiría la cacería hacia otras personas que ya se citan”.\n",
    "\n",
    "La presión del Gobierno y el PSOE sobre Ábalos para que renunciase al escaño ha sido máxima y creciente durante los últimos días, al tiempo que el PP se armaba con este caso para golpear a Sánchez por el flanco de la corrupción. La Comisión Ejecutiva Federal socialista había decidido este lunes por unanimidad pedir al dirigente que renuncie a su condición de parlamentario, después de que el exministro se hubiese resistido a hacerlo por sí mismo tras varias conversaciones mantenidas durante el fin de semana con él y varios mensajes muy directos en los medios, primero de María Jesús Montero y después del propio Pedro Sánchez. El PSOE se prepara para abrir de manera inmediata un expediente de expulsión para José Luis Ábalos, que fue hasta 2021 su secretario de organización.\n",
    "\n",
    "Ábalos hizo el lunes un primer movimiento al presentar su renuncia a la presidencia de la Comisión de Interior, que tenía una reunión este miércoles. Pero no dejó su acta de diputado. Por ello, el PSOE había decidido que, si no presentaba la renuncia, el siguiente paso era expulsarlo al Grupo Socialista, por lo que acabaría en el Mixto, un escenario que el propio exministro veía impensable el pasado viernes, cuando realizó una entrevista con EL PAÍS.\n",
    "    Es indignante y me da asco que haya quien quisiera lucrarse a costa de la desgracia colectiva.\n",
    "\n",
    "    Me repulsa, y mucho, sobre todo porque algunos nos dejábamos la piel por proteger a la ciudadanía en los momentos más duros que nos ha tocado vivir.\n",
    "\n",
    "    El Govern fue perjudicado y por… pic.twitter.com/9BPVxHz4sf\n",
    "    — Francina Armengol (@F_Armengol) February 27, 2024\n",
    "\n",
    "Antes de que Ábalos comunicara su decisión, los portavoces socialistas insistían en que no conocían la decisión final del político socialista. El portavoz socialista, Patxi López, ha entrado en la reunión semanal de la Junta de Portavoces sin hacer declaraciones. \n",
    "A la entrada de la Junta, fuentes de la dirección parlamentaria del PP han avanzado que su portavoz, Miguel Tellado, reclamará a la presidenta del Congreso de los Diputados, Francina Armengol, que dé explicaciones por su implicación en la trama corrupta del PSOE. El portavoz del GPP le exigirá que no utilice su cargo para entorpecer cualquier investigación parlamentaria y le pedirá que se abstenga de votar cualquier cuestión en la que sea parte afectada. \n",
    "El PP difunde esa posición tras conocer que este martes, a la entrada de la Mesa del Congreso, Armengol se mostrara indignada por el caso que afecta al Gobierno de Baleares cuando ella era presidenta. Pero el PP entiende que ella sigue sin responder dos preguntas básicas: “¿Recibió instrucciones del señor Ábalos o del señor Koldo García para que el Gobierno de Baleares, que entonces presidía, comprara mascarillas a la empresa de la trama? Y “¿Por qué su Gobierno estuvo tres años sin reclamar el dinero del contrato, 3,7 millones de euros, pese a saber que las mascarillas eran defectuosas y estaban acumulando polvo en un almacén y que la Guardia Civil ya investigaba?”.\n",
    "\n",
    "    Es indignante y me da asco que haya quien quisiera lucrarse a costa de la desgracia colectiva.\n",
    "\n",
    "    Me repulsa, y mucho, sobre todo porque algunos nos dejábamos la piel por proteger a la ciudadanía en los momentos más duros que nos ha tocado vivir.\n",
    "\n",
    "    El Govern fue perjudicado y por… pic.twitter.com/9BPVxHz4sf\n",
    "    — Francina Armengol (@F_Armengol) February 27, 2024\n",
    "\n",
    "\n",
    "\"\"\""
   ]
  },
  {
   "cell_type": "markdown",
   "metadata": {},
   "source": [
    "## Maisa APIs"
   ]
  },
  {
   "cell_type": "code",
   "execution_count": 5,
   "metadata": {},
   "outputs": [],
   "source": [
    "from maisa import Maisa\n",
    "import requests\n",
    "\n",
    "maisa = Maisa(\n",
    "    # Jesus's Api\n",
    "    api_key=\"sk_live_E5SqaiqmpiPhnQNoyNegkk_hxLJ7baukVsqi3bMrZHst5\",\n",
    ")"
   ]
  },
  {
   "cell_type": "markdown",
   "metadata": {},
   "source": [
    "Variables Globales"
   ]
  },
  {
   "cell_type": "code",
   "execution_count": 6,
   "metadata": {},
   "outputs": [],
   "source": [
    "language = 'es' # Si no se especifica es inglés "
   ]
  },
  {
   "cell_type": "markdown",
   "metadata": {},
   "source": [
    "#### Resumir textos"
   ]
  },
  {
   "cell_type": "code",
   "execution_count": 8,
   "metadata": {},
   "outputs": [
    {
     "name": "stdout",
     "output_type": "stream",
     "text": [
      "Resumel del Articulo del ABC\n",
      "TextSummary(summary='José Luis Ábalos ha decidido no renunciar a su acta de diputado y se integrará en el Grupo Mixto, lo que conllevará su expulsión del PSOE en las próximas horas. A pesar de su expulsión, Ábalos seguirá acudiendo al Congreso para cumplir con sus labores de diputado. La decisión de Ábalos supone un desafío para el PSOE y un problema para Pedro Sánchez, con quien coincidirá en la sesión de control al Gobierno. Patxi López reconoció que el caso Koldo les está causando mucho dolor y señaló que, aunque Ábalos no está acusado en el caso, sería expulsado del partido si continúa como diputado. La presencia de Ábalos en el Grupo Mixto añade incertidumbre a la aritmética del Gobierno en el Congreso, aunque su voto no será decisivo en votaciones contrarias al Gobierno. Los socialistas deberán preocuparse por su posición en cada votación.')\n"
     ]
    }
   ],
   "source": [
    "summary_abc = maisa.capabilities.summarize(\n",
    "    text = new_abc, # (Required)\n",
    "    lang = language # Language of the output\n",
    "    # format = paragrahp or bullet\n",
    "    # summary_hint = \" \" -> Un prompt por si quieres resumir algo en concreto\n",
    ")\n",
    "\n",
    "\n",
    "print(\"Resumel del Articulo del ABC\")\n",
    "print(summary_abc)\n",
    "\n"
   ]
  },
  {
   "cell_type": "code",
   "execution_count": 9,
   "metadata": {},
   "outputs": [
    {
     "name": "stdout",
     "output_type": "stream",
     "text": [
      "\n",
      "\n",
      " Resumen del Articulo del País\n",
      "TextSummary(summary='José Luis Ábalos, exministro de Fomento y exsecretario de Organización del PSOE, ha decidido no renunciar a su escaño parlamentario obtenido a través del PSOE y en su lugar unirse al Grupo Mixto para defender su \"honorabilidad hasta las últimas consecuencias\" desde ese asiento, porque, según dijo: \"No pretendo terminar mi carrera como corrupto cuando soy inocente\". La decisión de Ábalos, anunciada en la sala de prensa del Congreso al borde del inicio de la sesión plenaria, plantea un desafío a su partido, que el lunes le dio 24 horas para renunciar como parlamentario para asumir la responsabilidad política por el escándalo conocido como el caso Koldo. Ábalos se siente solo y abandonado por todos, incluido su partido, a quienes ha posicionado como adversarios: \"Me enfrento a todo el poder político, de un lado y del otro, y estoy solo\".\\n\\nEl político, quien ha dirigido duras reproches al Gobierno y a la dirección socialista, ha defendido su inocencia y su desconocimiento de los manejos de su exasesor Koldo García, quien presuntamente recibió cientos de miles de euros en comisiones ilegales en un contrato para comprar mascarillas durante la pandemia. \"No se me acusa de nada. No formo parte de la investigación en curso ni tengo ningún enriquecimiento ilícito. No necesito invocar la presunción de inocencia, que no me afecta, porque no se me imputa nada\", proclamó.\\n\\nÁbalos ha mantenido el misterio sobre el significado de su decisión hasta minutos antes del inicio de la sesión plenaria del Congreso. La salida del Grupo Socialista se produce después de varios días de presión para que abandone el escaño después de que se revelara la implicación de un exasesor. Poco antes de que el exministro anunciara su decisión, el actual secretario de Organización socialista, Santos Cerdán, pidió esperar (\"veamos primero el comunicado\", dijo en los pasillos del Congreso) y el portavoz de los socialistas, Patxi López, pidió paciencia hasta escuchar a su antiguo compañero.\\n\\nEl exministro ha argumentado la necesidad de mantener la plataforma pública del Congreso para defender su \"honorabilidad ante la opinión pública y ante la militancia del PSOE, a la que he dedicado toda mi vida\". Ábalos ha expresado su dolor por no haber sido \"respaldado\" por la dirección de su partido, a quienes reprochó por no querer llegar \"a la mejor solución compartida\". \"Me hubiera gustado contar con el beneficio de la camaradería. No ha sido posible\", dijo después de anunciar lo que describió como \"la decisión más importante\" de su vida política.\\n\\nLa razón, dijo, para mantener el escaño es que no tiene nada que ocultar y porque no está imputado ni citado en el caso. \"No estoy incluido en la demanda, donde hay siete acusados, ni en el auto judicial. Hasta ahora, no se me ha requerido para nada\", enfatizó, antes de señalar que los contratos fueron auditados por el Tribunal de Cuentas y que la demanda del fiscal indica que el procedimiento fue correcto según la normativa de ese momento.\\nEl político ha insistido en que renunciar como diputado habría sido admitir cierta culpabilidad. \"Pero he decidido escuchar a las personas que me aprecian, a aquellos que me han instado a continuar la lucha, a no rendirme, a defenderme y defender mi honorabilidad\". Antes de despedirse para ir a la sesión plenaria a ocupar un nuevo escaño lejos de sus antiguos compañeros, hizo esta reflexión con voz dolida, dirigida en parte a su partido: \"Los que exigen mi expulsión de la política apelan a una supuesta ética. Pero no me explican cuál sería la reparación para mi cancelación civil, ¿quién repararía eso? Si renunciara, y especialmente en este momento, se interpretaría como un signo de culpabilidad que no acepto, significaría mi estigmatización, tengo una edad y sé lo que es ser un proscrito político. No impediría que continuara la caza de otras personas que ya están siendo mencionadas\".\\n\\nLa presión del Gobierno y del PSOE sobre Ábalos para que renuncie a su escaño ha sido máxima y creciente en los últimos días, mientras que el PP se ha armado con este caso para atacar a Sánchez en el frente de la corrupción. La Comisión Ejecutiva Federal del Partido Socialista decidió unánimemente el lunes pedir al líder que renuncie como parlamentario, después de que el exministro se resistiera a hacerlo él mismo tras varias conversaciones mantenidas durante el fin de semana con él y varios mensajes muy directos en los medios, primero de María Jesús Montero y luego de Pedro Sánchez. El PSOE se prepara para abrir de inmediato un procedimiento de expulsión contra José Luis Ábalos, quien fue hasta 2021 su secretario de Organización.\\n\\nEl lunes, Ábalos dio un primer paso al renunciar a la presidencia de la Comisión de Interior, que tenía una reunión programada para el miércoles. Pero no renunció a su escaño parlamentario. Por lo tanto, el PSOE había decidido que si no renunciaba, el siguiente paso sería expulsarlo del Grupo Socialista, lo que resultaría en que terminaría en el Grupo Mixto, un escenario que el propio exministro consideraba impensable el pasado viernes, cuando concedió una entrevista a EL PAÍS.\\n\\nAntes de que Ábalos anunciara su decisión, los portavoces socialistas insistieron en que no conocían la decisión final del político socialista. El portavoz socialista, Patxi López, entró a la reunión semanal de la Junta de Portavoces sin hacer declaraciones. \\nA la entrada de la reunión, fuentes de la dirección parlamentaria del PP adelantaron que su portavoz, Miguel Tellado, exigirá que la presidenta del Congreso de los Diputados, Francina Armengol, dé explicaciones por su implicación en el entramado corrupto del PSOE. El portavoz del GPP exigirá que no utilice su cargo para obstaculizar ninguna investigación parlamentaria y le pedirá que se abstenga de votar en cualquier asunto en el que sea parte afectada. \\nEl PP difunde esta postura después de conocer que el martes, a la entrada de la Mesa del Congreso, Armengol expresó indignación por el caso que afecta al Gobierno de las Islas Baleares cuando ella era presidenta. Pero el PP entiende que aún no responde a dos preguntas básicas: \"¿Recibió instrucciones del señor Ábalos o del señor Koldo García para que el Gobierno de las Islas Baleares, que ella presidía entonces, comprara mascarillas a la empresa implicada en el entramado?\" y \"¿Por qué su Gobierno pasó tres años sin reclamar el dinero del contrato, 3,7 millones de euros, a pesar de saber que las mascarillas eran defectuosas y se acumulaban polvo en un almacén y que la Guardia Civil ya estaba investigando?\".')\n"
     ]
    }
   ],
   "source": [
    "summary_pais = maisa.capabilities.summarize(\n",
    "    text = new_pais, # (Required)\n",
    "    lang = language\n",
    ")\n",
    "\n",
    "print(\"\\n\\n Resumen del Articulo del País\")\n",
    "print(summary_pais)"
   ]
  },
  {
   "cell_type": "code",
   "execution_count": 10,
   "metadata": {},
   "outputs": [
    {
     "ename": "SyntaxError",
     "evalue": "invalid syntax. Perhaps you forgot a comma? (1312466720.py, line 2)",
     "output_type": "error",
     "traceback": [
      "\u001b[0;36m  Cell \u001b[0;32mIn[10], line 2\u001b[0;36m\u001b[0m\n\u001b[0;31m    text = new_mundo # (Required)\u001b[0m\n\u001b[0m           ^\u001b[0m\n\u001b[0;31mSyntaxError\u001b[0m\u001b[0;31m:\u001b[0m invalid syntax. Perhaps you forgot a comma?\n"
     ]
    }
   ],
   "source": [
    "summary_mundo = maisa.capabilities.summarize(\n",
    "    text = new_mundo, # (Required)\n",
    "    lang = language\n",
    ")\n",
    "\n",
    "print(\"Resumen del Articulo del Mundo\")\n",
    "print(summary_mundo)"
   ]
  },
  {
   "cell_type": "markdown",
   "metadata": {},
   "source": [
    "#### Comparar Texto"
   ]
  },
  {
   "cell_type": "code",
   "execution_count": null,
   "metadata": {},
   "outputs": [],
   "source": [
    "compare_pais_mundo = maisa.capabilities.compare(\n",
    "    text1 = new_pais, # (Required)\n",
    "    text2 = new_mundo, # (Required)\n",
    "    lang = language\n",
    "    # variables a comparar -> Una variable está compuesta de un tipo y una descripción (Required)\n",
    "    # Los tipos son (string, number, date, boolean)\n",
    "    # prompt = \"\" -> más detalles específicos\n",
    ")\n",
    "\n",
    "print()"
   ]
  },
  {
   "cell_type": "markdown",
   "metadata": {},
   "source": [
    "### Extraer información de un Texto"
   ]
  },
  {
   "cell_type": "code",
   "execution_count": null,
   "metadata": {},
   "outputs": [],
   "source": [
    "extract_pais = maisa.capabilities.extract(\n",
    "    # text = \n",
    "    # variables = \n",
    "    # lang = \n",
    ")"
   ]
  },
  {
   "cell_type": "markdown",
   "metadata": {},
   "source": [
    "#### Llamar a su Gpt que se llama KPU"
   ]
  },
  {
   "cell_type": "code",
   "execution_count": null,
   "metadata": {},
   "outputs": [
    {
     "ename": "AttributeError",
     "evalue": "'Maisa' object has no attribute 'kpu'",
     "output_type": "error",
     "traceback": [
      "\u001b[1;31m---------------------------------------------------------------------------\u001b[0m",
      "\u001b[1;31mAttributeError\u001b[0m                            Traceback (most recent call last)",
      "Cell \u001b[1;32mIn [9], line 17\u001b[0m\n\u001b[0;32m      1\u001b[0m \u001b[38;5;66;03m### Query Params\u001b[39;00m\n\u001b[0;32m      2\u001b[0m \n\u001b[0;32m      3\u001b[0m \u001b[38;5;66;03m# explain_steps -boolean\u001b[39;00m\n\u001b[1;32m   (...)\u001b[0m\n\u001b[0;32m     14\u001b[0m \u001b[38;5;66;03m# query - string (required)\u001b[39;00m\n\u001b[0;32m     15\u001b[0m \u001b[38;5;66;03m# file \u001b[39;00m\n\u001b[1;32m---> 17\u001b[0m call_kpu \u001b[38;5;241m=\u001b[39m \u001b[43mmaisa\u001b[49m\u001b[38;5;241;43m.\u001b[39;49m\u001b[43mkpu\u001b[49m\u001b[38;5;241m.\u001b[39mrun(\n\u001b[0;32m     18\u001b[0m     query \u001b[38;5;241m=\u001b[39m \u001b[38;5;124m\"\u001b[39m\u001b[38;5;124m¿Cómo se gana una Hackathon sobre AI agents?\u001b[39m\u001b[38;5;124m\"\u001b[39m\n\u001b[0;32m     19\u001b[0m )\n\u001b[0;32m     21\u001b[0m \u001b[38;5;28mprint\u001b[39m(call_kpu)\n",
      "\u001b[1;31mAttributeError\u001b[0m: 'Maisa' object has no attribute 'kpu'"
     ]
    }
   ],
   "source": [
    "### Query Params\n",
    "\n",
    "# explain_steps -boolean\n",
    "        # If true, the KPU will explain in natural language the steps of each step of each intent.\n",
    "        # Enabling this feature can slow down the KPU execution, and increase the usage metric.\n",
    "\n",
    "# retries -integer\n",
    "        # Number of retries in case of failure. Retries are sequential,\n",
    "        # and each failed intent yields a learning for the next intent. This feature is experimental. \n",
    "\n",
    "\n",
    "#### Body Params\n",
    "\n",
    "# query - string (required)\n",
    "# file \n",
    "\n",
    "# call_kpu = maisa.kpu.run(\n",
    "#     query = \"¿Cómo se gana una Hackathon sobre AI agents?\"\n",
    "# )\n",
    "\n",
    "# print(call_kpu)\n",
    "\n"
   ]
  },
  {
   "cell_type": "markdown",
   "metadata": {},
   "source": [
    "## APIs que no creo que sean utiles"
   ]
  },
  {
   "cell_type": "markdown",
   "metadata": {},
   "source": [
    "#### Interpretador de documentos -> Markdown (Output) \n",
    "Transforma un documento en Markdown, hay varios tipos (Pdf, video, imagenes...)"
   ]
  },
  {
   "cell_type": "code",
   "execution_count": null,
   "metadata": {},
   "outputs": [
    {
     "ename": "TypeError",
     "evalue": "'FromImageResource' object is not callable",
     "output_type": "error",
     "traceback": [
      "\u001b[1;31m---------------------------------------------------------------------------\u001b[0m",
      "\u001b[1;31mTypeError\u001b[0m                                 Traceback (most recent call last)",
      "Cell \u001b[1;32mIn [13], line 5\u001b[0m\n\u001b[0;32m      1\u001b[0m \u001b[38;5;66;03m# El de imagen para que os hagáis una idea porque todas son iguales en argumentos\u001b[39;00m\n\u001b[0;32m      2\u001b[0m \u001b[38;5;66;03m# (Devuelve la descripción de la imagen)\u001b[39;00m\n\u001b[0;32m      3\u001b[0m \u001b[38;5;66;03m# https://docs.maisa.ai/reference/post_from_audio_v1_file_interpreter_from_audio_post\u001b[39;00m\n\u001b[1;32m----> 5\u001b[0m img_desc \u001b[38;5;241m=\u001b[39m \u001b[38;5;28;01mawait\u001b[39;00m maisa\u001b[38;5;241m.\u001b[39mfile_interpreter\u001b[38;5;241m.\u001b[39mfrom_image(\n\u001b[0;32m      6\u001b[0m     file \u001b[38;5;241m=\u001b[39m \u001b[38;5;124m\"\u001b[39m\u001b[38;5;124mdata:image/png;base64,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\u001b[39m\u001b[38;5;124m\"\u001b[39m\n\u001b[0;32m      7\u001b[0m )   \n\u001b[0;32m      9\u001b[0m \u001b[38;5;28mprint\u001b[39m(img_desc)\n",
      "\u001b[1;31mTypeError\u001b[0m: 'FromImageResource' object is not callable"
     ]
    }
   ],
   "source": [
    "# El de imagen para que os hagáis una idea porque todas son iguales en argumentos\n",
    "# (Devuelve la descripción de la imagen)\n",
    "# https://docs.maisa.ai/reference/post_from_audio_v1_file_interpreter_from_audio_post\n",
    "\n",
    "img_desc = maisa.file_interpreter.from_image(\n",
    "    file = \"data:image/png;base64,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\"\n",
    ")   \n",
    "\n",
    "print(img_desc)\n"
   ]
  },
  {
   "cell_type": "markdown",
   "metadata": {},
   "source": [
    "#### Embeding Model"
   ]
  },
  {
   "cell_type": "code",
   "execution_count": null,
   "metadata": {},
   "outputs": [],
   "source": [
    "maisa.models.embeddings(\n",
    "    texts = [] # lista de variables de las que se va a generar el embeding\n",
    ")"
   ]
  },
  {
   "cell_type": "markdown",
   "metadata": {},
   "source": [
    "#### Rerannking sentences\n",
    "\n",
    "No me queda muy claro pero creo que se utiliza para encontrar la similitud entre documentos u objetos (En este caso frases). Parece que es una técnica que se utiliza cuando tienes mucha información que comparar que no es nuestro caso. \n",
    "\n",
    "Creo que puede servir como buscador de documentos o frases en este caso."
   ]
  },
  {
   "cell_type": "code",
   "execution_count": null,
   "metadata": {},
   "outputs": [],
   "source": [
    "maisa.models.rerank(\n",
    "    sentences = [ ] #sentences to be reranked\n",
    "    source_sentence = \"\" # Reference sentence\n",
    ")"
   ]
  },
  {
   "cell_type": "markdown",
   "metadata": {},
   "source": [
    "## APIs que Dudo que sean utiles"
   ]
  },
  {
   "cell_type": "markdown",
   "metadata": {},
   "source": [
    "#### Comparar Archivos \n",
    "(Entiendo que pueden ser pdf no sé si valen todo tipo de archivos)"
   ]
  },
  {
   "cell_type": "code",
   "execution_count": null,
   "metadata": {},
   "outputs": [],
   "source": [
    "# file1 (required)\n",
    "# file2 (required)\n",
    "\n",
    "# variable1_name - string\n",
    "# variable1_type - (string, number, date, boolean)\n",
    "# variable1_description\n",
    "\n",
    "# variable2_name\n",
    "# variable2_type\n",
    "# variable2_description\n",
    "\n",
    "# variable3_name\n",
    "# variable3_type\n",
    "# variable3_description\n",
    "\n",
    "# variable4_name\n",
    "# variable4_type\n",
    "# variable4_description\n",
    "\n",
    "# prompt\n",
    "# lang\n",
    "\n",
    "\n",
    "extract_info_file = maisa.capabilities(\n",
    "    \n",
    ")\n"
   ]
  },
  {
   "cell_type": "markdown",
   "metadata": {},
   "source": [
    "También se puede extraer y resumir documentos pero en principio no lo pongo"
   ]
  }
 ],
 "metadata": {
  "kernelspec": {
   "display_name": "Python 3",
   "language": "python",
   "name": "python3"
  },
  "language_info": {
   "codemirror_mode": {
    "name": "ipython",
    "version": 3
   },
   "file_extension": ".py",
   "mimetype": "text/x-python",
   "name": "python",
   "nbconvert_exporter": "python",
   "pygments_lexer": "ipython3",
   "version": "3.11.5"
  }
 },
 "nbformat": 4,
 "nbformat_minor": 2
}
