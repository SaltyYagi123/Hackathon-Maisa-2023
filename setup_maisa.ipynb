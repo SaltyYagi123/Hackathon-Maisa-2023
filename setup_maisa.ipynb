{
 "cells": [
  {
   "cell_type": "code",
   "execution_count": null,
   "metadata": {},
   "outputs": [],
   "source": [
    "!pip install maisa"
   ]
  },
  {
   "cell_type": "markdown",
   "metadata": {},
   "source": [
    "Demo rapida que nos indica como usar la API de Maisa"
   ]
  },
  {
   "cell_type": "code",
   "execution_count": 3,
   "metadata": {},
   "outputs": [],
   "source": [
    "from maisa import Maisa\n",
    "\n",
    "maisa = Maisa(\n",
    "    api_key='sk_live_oDEUa7sdfFNM2SQWu8qkx8_nietxsHUcSm6UwDic5K3WV'\n",
    ")\n",
    "\n",
    "summary = maisa.capabilities.summarize(\n",
    "    text=\"Samuel Harris Altman is an American entrepreneur and investor best known as the CEO of OpenAI since 2019 (he was briefly fired and reinstated in November 2023). Altman is considered to be one of the leading figures of the AI boom. He dropped out of university after two years and founded Loopt, a mobile social networking service, raising more than $30 million in venture capital. In 2011, Altman joined Y Combinator, a startup accelerator, and was its president from 2014 to 2019. In 2005, at the age of 19, Altman co-founded Loopt, a location-based social networking mobile application. As CEO, Altman raised more than $30 million in venture capital for the company; however, Loopt failed to gain traction with enough users. In March 2012, it was acquired by the Green Dot Corporation for $43.4 million. The following month, Altman co-founded Hydrazine Capital with his brother, Jack Altman. Altman became a partner at Y Combinator, a startup accelerator that invests in a wide range of startups, in 2011, initially working there on a part-time basis. In February 2014, Altman was named president of Y Combinator by its co-founder, Paul Graham. In a 2014 blog post, Altman said that the total valuation of Y Combinator companies had surpassed $65 billion, including Airbnb, Dropbox, Zenefits, and Stripe. In September 2016, Altman announced his expanded role as president of YC Group, which included Y Combinator and other units.[21] Altman said that he hoped to expand Y Combinator to fund 1,000 new companies per year. He also tried to expand the types of companies funded by YC, especially hard technology companies. In October 2015, Altman announced YC Continuity, a $700 million equity fund investing in YC companies as they matured. A week earlier, Altman had introduced Y Combinator Research, a non-profit research lab, and donated $10 million to fund it. YC Research has thus far announced research on basic income, the future of computing, education, and building new cities. In March 2019, YC announced Altman's transition from the president of the company to a less hands-on role as chairman of the board, for him to focus on OpenAI. This decision came shortly after YC announced it would be moving its headquarters to San Francisco. As of early 2020, he was no longer affiliated with YC. It was later reported that Altman was fired from YC, and had appointed himself Chairman without authorization. Altman co-founded Tools For Humanity in 2019, a company which builds and distributes systems designed to scan people's eyes to provide authentication and verify proof of personhood to counter fraud. People who agree to have their eyes scanned are compensated with a cryptocurrency called Worldcoin. Tools For Humanity describes its cryptocurrency as similar to universal basic income. Altman has several other investments. Including, Humane, the world's first wearable computer powered by AI, Retro Biosciences, a research company aiming to extend human life by 10 years, and Helion Energy, an American fusion research company.\",\n",
    ")"
   ]
  },
  {
   "cell_type": "code",
   "execution_count": 5,
   "metadata": {},
   "outputs": [
    {
     "name": "stdout",
     "output_type": "stream",
     "text": [
      "TextSummary(summary=\"Samuel Harris Altman is an American entrepreneur and investor who has had a successful career in the tech industry. He is best known for his role as the CEO of OpenAI since 2019. Altman started his journey by dropping out of university and founding Loopt, a mobile social networking service. Despite raising over $30 million in venture capital, Loopt failed to gain enough users and was eventually acquired by the Green Dot Corporation. Altman then joined Y Combinator, a startup accelerator, in 2011 and became its president from 2014 to 2019. During his time at Y Combinator, Altman focused on funding hard technology companies and aimed to expand the organization's funding to 1,000 new companies per year. He also introduced YC Continuity, a $700 million equity fund, and Y Combinator Research, a non-profit research lab. In addition to his work at Y Combinator, Altman co-founded Hydrazine Capital with his brother and became a partner at Y Combinator. He has also been involved in other ventures, such as co-founding Tools For Humanity, a company that builds systems for eye scanning authentication, and investing in companies like Humane, Retro Biosciences, and Helion Energy. In 2019, Altman transitioned to a less hands-on role as chairman of the board at YC to focus on his role as CEO of OpenAI. Altman's experience and expertise in the tech industry have made him a prominent figure in the field.\")\n"
     ]
    },
    {
     "data": {
      "text/plain": [
       "maisa.types.shared.text_summary.TextSummary"
      ]
     },
     "execution_count": 5,
     "metadata": {},
     "output_type": "execute_result"
    }
   ],
   "source": [
    "print(summary)\n",
    "type(summary)"
   ]
  },
  {
   "cell_type": "code",
   "execution_count": 7,
   "metadata": {},
   "outputs": [
    {
     "name": "stdout",
     "output_type": "stream",
     "text": [
      "{\"detail\":[{\"type\":\"missing\",\"loc\":[\"body\",\"file\"],\"msg\":\"Field required\",\"input\":null,\"url\":\"https://errors.pydantic.dev/2.6/v/missing\"}]}\n"
     ]
    }
   ],
   "source": [
    "import requests\n",
    "\n",
    "url = \"https://api.maisa.ai/v1/capabilities/extract/media\"\n",
    "\n",
    "payload = \"-----011000010111000001101001\\r\\nContent-Disposition: form-data; name=\\\"variable1_type\\\"\\r\\n\\r\\nstring\\r\\n-----011000010111000001101001\\r\\nContent-Disposition: form-data; name=\\\"variable2_type\\\"\\r\\n\\r\\nstring\\r\\n-----011000010111000001101001\\r\\nContent-Disposition: form-data; name=\\\"variable3_type\\\"\\r\\n\\r\\nstring\\r\\n-----011000010111000001101001\\r\\nContent-Disposition: form-data; name=\\\"variable4_type\\\"\\r\\n\\r\\nstring\\r\\n-----011000010111000001101001\\r\\nContent-Disposition: form-data; name=\\\"lang\\\"\\r\\n\\r\\nen\\r\\n-----011000010111000001101001--\\r\\n\\r\\n\"\n",
    "headers = {\n",
    "    \"accept\": \"application/json\",\n",
    "    \"content-type\": \"multipart/form-data; boundary=---011000010111000001101001\",\n",
    "    \"X-API-Key\": \"sk_live_oDEUa7sdfFNM2SQWu8qkx8_nietxsHUcSm6UwDic5K3WV\"\n",
    "}\n",
    "\n",
    "response = requests.post(url, data=payload, headers=headers)\n",
    "\n",
    "print(response.text)"
   ]
  },
  {
   "cell_type": "code",
   "execution_count": 8,
   "metadata": {},
   "outputs": [
    {
     "name": "stdout",
     "output_type": "stream",
     "text": [
      "{\"extracted_data\":{\"Article Facts\":{\"description\":\"The Palestinian Authority's prime minister announced his government's resignation on Monday.\"},\"Article Title\":{\"description\":\"Palestinian Prime Minister Resigns, Opening Door to Reforms\"},\"Date of the Article\":{\"description\":\"February 18, 2024\"}}}\n"
     ]
    }
   ],
   "source": [
    "import requests\n",
    "\n",
    "url = \"https://api.maisa.ai/v1/capabilities/extract\"\n",
    "\n",
    "payload = {\n",
    "    \"variables\": {\n",
    "        \"Article Title\": {\n",
    "            \"type\": \"string\",\n",
    "            \"description\": \"Article Title. Make it be politically neutral and factual.\"\n",
    "        },\n",
    "        \"Date of the Article\": {\n",
    "            \"type\": \"date\",\n",
    "            \"description\": \"Date of the happening\"\n",
    "        },\n",
    "        \"Article Facts\": {\n",
    "            \"type\": \"string\",\n",
    "            \"description\": \"Identify factual statements in the article. A fact is defined as information that can be verified and proven to be true through reliable sources. Exclude opinions, assumptions, and unverified claims. While analyzing, consciously avoid political bias. Do not favor or discriminate against any political perspectives. Use neutral language and ensure that the extraction is based solely on factual content, not on political viewpoints or interpretations. Order the extracted facts based on their relevance and importance to the potential impact on the public. Consider the scale, immediacy, and the breadth of the impact of each fact on people's lives.\"\n",
    "        }\n",
    "    },\n",
    "    \"text\": \"The Palestinian Authority’s prime minister announced his government’s resignation on Monday, seen as the first step in a reform process urged by the United States as part of its latest ambitious plans to resolve the Israeli-Palestinian conflict.  But it will do little to address the authority’s longstanding lack of legitimacy among its own people or its strained relations with Israel. Both pose major obstacles to U.S. plans calling for the PA, which administers parts of the Israeli-occupied West Bank, to govern postwar Gaza ahead of eventual statehood.  That’s assuming that the war in Gaza ends with the defeat of the Hamas militant group — an Israeli and U.S. goal that seems elusive nearly five months into the grueling war that has killed almost 30,000 Palestinians and pushed the territory to the brink of famine.  Here’s a look at the government shakeup and what it means for the Israel-Hamas war.  READ MORE FILE - Palestinian Prime Minister Mohammed Shtayyeh speaks during a meeting with officials from Western and Arab nations, the United Nations and nongovernmental organizations at the Elysee Palace, in Paris, Thursday, Nov. 9, 2023. Prime Minister Shtayyeh says his government is resigning, in a move that could open the door to U.S.-backed reforms in the Palestinian Authority. (Ludovic Marin/Pool Photo via AP, File) Palestinian prime minister submits government’s resignation, a move that could open door to reforms A woman walks between dead bodies of Palestinians killed in the Israeli bombardments of the Gaza Strip, in front of the morgue at Al Aqsa Hospital in Deir al Balah, Gaza Strip, on Sunday, Feb. 18, 2024. (AP Photo/Adel Hana) Israel vows to ‘finish the job’ in Gaza as War Cabinet member threatens a Ramadan deadline for Rafah  French President Emmanuel Macron, right, and Jordan's King Abdullah II address a joint statement Friday, Feb. 16, 2024 at the Elysee Palace in Paris. King Abdullah II meets Emmanuel Macron after urging Biden to push for a cease-fire in Gaza. (Yoan Valat, Pool via AP) Macron says recognizing a Palestinian state is not a taboo for France WHAT IS THE PALESTINIAN AUTHORITY? The PA was created in the early 1990s through interim peace agreements signed between Israel and the Palestine Liberation Organization, then led by Yasser Arafat.  It was granted limited autonomy in parts of the West Bank and Gaza ahead of what the Palestinians hoped would be full statehood in both territories as well as east Jerusalem, lands that Israel captured in the 1967 Mideast war.  But the sides were unable to reach a final agreement through several rounds of peace talks. Mahmoud Abbas was elected president of the PA in 2005, months after Arafat’s death. Hamas won a landslide victory in parliamentary elections the following year, triggering an international boycott of the PA.  A power struggle between Abbas’ secular Fatah party and Hamas boiled over in the summer of 2007, with Hamas seizing power in Gaza after a week of street battles. That effectively confined Abbas’ authority to parts of the Israeli-occupied West Bank.  Abbas recognizes Israel, is opposed to armed struggle and is committed to a two-state solution. His security forces have cooperated with the Israeli military to crack down on Hamas and other armed groups, and his government has worked with Israel to facilitate work permits, medical travel and other civilian affairs.  WHAT DOES THE RESIGNATION MEAN? In announcing his resignation, Prime Minister Mohammad Shtayyeh said new arrangements were needed to address “the new reality in the Gaza Strip.”  Abbas accepted Shtayyeh’s resignation and is expected to replace him with Mohammad Mustafa, a U.S.-educated economist who has held senior positions at the World Bank and currently leads the Palestine Investment Fund. He was deputy prime minister and economy minister from 2013-2015.  As a political independent and not a Fatah loyalist like Shtayyeh, Mustafa’s appointment would likely be welcomed by the U.S., Israel and other countries.  Mustafa has no political base of his own, and the 88-year-old Abbas will still have the final say on any major policies. Still, the appointment would convey the image of a reformed, professional PA that can run Gaza, which is important for the U.S.  State Department spokesman Matthew Miller said it was up to the Palestinians to choose their leaders, but that the U.S. welcomes any steps to “reform and revitalize” the PA.  “We think those steps are positive. We think that they’re an important step to achieving a reunited Gaza and West Bank under the Palestinian Authority.”  HOW DO PALESTINIANS VIEW THE AUTHORITY? Abbas’ popularity has plummeted in recent years, with polls consistently finding that a large majority of Palestinians want him to resign. The PA’s security coordination with Israel is extremely unpopular, causing many Palestinians to view it as a subcontractor of the occupation.  Both the PA and Hamas have cracked down on dissent in the territories they control, violently suppressing protests and jailing and torturing critics. Abbas’ mandate expired in 2009 but he has refused to hold elections, citing Israeli restrictions.  Hamas, whose popularity has soared during this and previous rounds of violence, would likely do well in any free election.  But the most popular Palestinian leader by far is Marwan Barghouti, a Fatah leader who is serving five life sentences in an Israeli prison after a 2004 terrorism conviction.  Hamas is demanding his release in exchange for some of the hostages it captured in the Oct. 7 attack that ignited the war, but Israel has refused.  Hamas has called for all the Palestinian factions to establish an interim government to prepare the way for elections. But Israel, the U.S. and other Western countries are likely to boycott any Palestinian body that includes the militant group, which they view as a terrorist organization.  DOES ISRAEL SUPPORT THE PALESTINIAN AUTHORITY? Israel prefers the PA to Hamas. But even though they cooperate on security matters, Israel accuses the PA of inciting terrorism, and the PA accuses Israel of apartheid and genocide.  Israel’s criticism largely focuses on the PA’s provision of financial aid to the families of Palestinian prisoners and Palestinians killed by Israeli forces — including militants who killed Israelis. Israel says the payments incentivize terrorism. The PA portrays them as social welfare for victims of the occupation.  Israeli Prime Minister Benjamin Netanyahu has said the PA should have no role in postwar Gaza. He says Israel will maintain open-ended security control over the territory while local Palestinian leaders administer civilian affairs. Netanyahu’s government is opposed to Palestinian statehood.  The U.S. has outlined a path to a broader postwar settlement in which Saudi Arabia would recognize Israel and join other Arab states and a revitalized PA in helping to rebuild and govern Gaza — all in exchange for a credible path to an independent Palestinian state.  The reform of the PA represents a small part of that package, which has yet to win over the Israeli government.  ___ Associated Press writer Matthew Lee in Washington contributed.\",\n",
    "    \"lang\": \"en\"\n",
    "}\n",
    "headers = {\n",
    "    \"accept\": \"application/json\",\n",
    "    \"content-type\": \"application/json\",\n",
    "    \"X-API-Key\": \"sk_live_oDEUa7sdfFNM2SQWu8qkx8_nietxsHUcSm6UwDic5K3WV\"\n",
    "}\n",
    "\n",
    "response = requests.post(url, json=payload, headers=headers)\n",
    "\n",
    "print(response.text)"
   ]
  },
  {
   "cell_type": "markdown",
   "metadata": {},
   "source": [
    "Example Prompt: \n",
    "\n",
    "Analyze the provided news article focusing strictly on extracting unbiased and verifiable facts. Avoid political bias by maintaining neutral language and evaluating information based on its factual content. Order the facts starting with the most relevant to the public's interest and potential impact, followed by secondary details. Present the facts in a numbered list, provide verification sources when available, and conclude with a summary highlighting the key takeaways and implications. Remember to adhere to ethical guidelines throughout the analysis."
   ]
  }
 ],
 "metadata": {
  "kernelspec": {
   "display_name": "Python 3",
   "language": "python",
   "name": "python3"
  },
  "language_info": {
   "codemirror_mode": {
    "name": "ipython",
    "version": 3
   },
   "file_extension": ".py",
   "mimetype": "text/x-python",
   "name": "python",
   "nbconvert_exporter": "python",
   "pygments_lexer": "ipython3",
   "version": "3.11.5"
  },
  "orig_nbformat": 4
 },
 "nbformat": 4,
 "nbformat_minor": 2
}
